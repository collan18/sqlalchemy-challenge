{
 "cells": [
  {
   "cell_type": "code",
   "execution_count": 1,
   "metadata": {},
   "outputs": [],
   "source": [
    "%matplotlib inline\n",
    "from matplotlib import style\n",
    "style.use('fivethirtyeight')\n",
    "import matplotlib.pyplot as plt"
   ]
  },
  {
   "cell_type": "code",
   "execution_count": 2,
   "metadata": {},
   "outputs": [],
   "source": [
    "import numpy as np\n",
    "import pandas as pd"
   ]
  },
  {
   "cell_type": "code",
   "execution_count": 3,
   "metadata": {},
   "outputs": [],
   "source": [
    "import datetime as dt"
   ]
  },
  {
   "cell_type": "markdown",
   "metadata": {},
   "source": [
    "# Reflect Tables into SQLAlchemy ORM"
   ]
  },
  {
   "cell_type": "code",
   "execution_count": 4,
   "metadata": {},
   "outputs": [],
   "source": [
    "# Python SQL toolkit and Object Relational Mapper\n",
    "import sqlalchemy\n",
    "from sqlalchemy.ext.automap import automap_base\n",
    "from sqlalchemy.orm import Session\n",
    "from sqlalchemy import create_engine, func, inspect"
   ]
  },
  {
   "cell_type": "code",
   "execution_count": 5,
   "metadata": {},
   "outputs": [],
   "source": [
    "# # Create an engine that opens the notebook up to the database\n",
    "engine = create_engine(\"sqlite:///data/hawaii.sqlite\")"
   ]
  },
  {
   "cell_type": "code",
   "execution_count": 6,
   "metadata": {},
   "outputs": [],
   "source": [
    "# reflect an existing database into a new model using automap_base()\n",
    "\n",
    "Base = automap_base()\n",
    "\n",
    "# reflect the tables with Base.prepare(), passing in the engine and reflect=True\n",
    "Base.prepare(engine, reflect=True)"
   ]
  },
  {
   "cell_type": "code",
   "execution_count": 7,
   "metadata": {},
   "outputs": [
    {
     "data": {
      "text/plain": [
       "['measurement', 'station']"
      ]
     },
     "execution_count": 7,
     "metadata": {},
     "output_type": "execute_result"
    }
   ],
   "source": [
    "# view all of the classes that automap found with Base.classes\n",
    "Base.classes.keys()"
   ]
  },
  {
   "cell_type": "code",
   "execution_count": 8,
   "metadata": {},
   "outputs": [],
   "source": [
    "# Save references to each table\n",
    "Measurement = Base.classes.measurement\n",
    "Station = Base.classes.station"
   ]
  },
  {
   "cell_type": "code",
   "execution_count": 9,
   "metadata": {},
   "outputs": [
    {
     "name": "stdout",
     "output_type": "stream",
     "text": [
      "id INTEGER\n",
      "station TEXT\n",
      "date TEXT\n",
      "prcp FLOAT\n",
      "tobs FLOAT\n"
     ]
    }
   ],
   "source": [
    "# column names and types in measurement\n",
    "inspection = inspect(engine)\n",
    "columns = inspection.get_columns(\"measurement\")\n",
    "for column in columns:\n",
    "    print(column[\"name\"], column[\"type\"])"
   ]
  },
  {
   "cell_type": "code",
   "execution_count": 10,
   "metadata": {},
   "outputs": [
    {
     "name": "stdout",
     "output_type": "stream",
     "text": [
      "id INTEGER\n",
      "station TEXT\n",
      "name TEXT\n",
      "latitude FLOAT\n",
      "longitude FLOAT\n",
      "elevation FLOAT\n"
     ]
    }
   ],
   "source": [
    "# column names and types in station\n",
    "inspection = inspect(engine)\n",
    "columns = inspection.get_columns(\"station\")\n",
    "for column in columns:\n",
    "    print(column[\"name\"], column[\"type\"])"
   ]
  },
  {
   "cell_type": "code",
   "execution_count": 11,
   "metadata": {},
   "outputs": [],
   "source": [
    "# Create our Session() and bind it to the engine\n",
    "session = Session(engine)"
   ]
  },
  {
   "cell_type": "markdown",
   "metadata": {},
   "source": [
    "# Exploratory Climate Analysis"
   ]
  },
  {
   "cell_type": "markdown",
   "metadata": {},
   "source": [
    "##### Design a query to retrieve the last 12 months of precipitation data"
   ]
  },
  {
   "cell_type": "code",
   "execution_count": 12,
   "metadata": {},
   "outputs": [
    {
     "data": {
      "text/plain": [
       "('2017-08-23')"
      ]
     },
     "execution_count": 12,
     "metadata": {},
     "output_type": "execute_result"
    }
   ],
   "source": [
    "# Calculate the date 1 year ago from the last data point in the database\n",
    "last_record_date = session.query(Measurement.date).order_by(Measurement.date.desc()).first()\n",
    "last_record_date"
   ]
  },
  {
   "cell_type": "code",
   "execution_count": 13,
   "metadata": {},
   "outputs": [
    {
     "name": "stdout",
     "output_type": "stream",
     "text": [
      "Find Date: 2016-08-23\n",
      "           ==========\n"
     ]
    }
   ],
   "source": [
    "# Use the datetime.timedelta() function to help calculating the difference of one year, 12 months, or 365 days\n",
    "prev_year_date = dt.date(2017, 8, 23) - dt.timedelta(days=365)\n",
    "print('Find Date:', prev_year_date)\n",
    "print(\"           ==========\")"
   ]
  },
  {
   "cell_type": "code",
   "execution_count": 14,
   "metadata": {
    "collapsed": true,
    "jupyter": {
     "outputs_hidden": true
    }
   },
   "outputs": [
    {
     "data": {
      "text/plain": [
       "[('2016-08-23', 1.79),\n",
       " ('2016-08-24', 2.28),\n",
       " ('2016-08-25', 0.21),\n",
       " ('2016-08-26', 0.04),\n",
       " ('2016-08-27', 0.18),\n",
       " ('2016-08-28', 2.07),\n",
       " ('2016-08-29', 0.9),\n",
       " ('2016-08-30', 0.05),\n",
       " ('2016-08-31', 2.46),\n",
       " ('2016-09-01', 0.02),\n",
       " ('2016-09-02', 0.19),\n",
       " ('2016-09-03', 1.0),\n",
       " ('2016-09-04', 0.74),\n",
       " ('2016-09-05', 0.18),\n",
       " ('2016-09-06', 1.0),\n",
       " ('2016-09-07', 1.35),\n",
       " ('2016-09-08', 0.22),\n",
       " ('2016-09-09', 0.35),\n",
       " ('2016-09-10', 1.16),\n",
       " ('2016-09-11', 0.6),\n",
       " ('2016-09-12', 1.04),\n",
       " ('2016-09-13', 1.2),\n",
       " ('2016-09-14', 6.7),\n",
       " ('2016-09-15', 3.35),\n",
       " ('2016-09-16', 0.61),\n",
       " ('2016-09-17', 0.36),\n",
       " ('2016-09-18', 0.42),\n",
       " ('2016-09-19', 0.25),\n",
       " ('2016-09-20', 0.43),\n",
       " ('2016-09-21', 1.02),\n",
       " ('2016-09-22', 0.75),\n",
       " ('2016-09-23', 0.94),\n",
       " ('2016-09-24', 0.27),\n",
       " ('2016-09-25', 0.04),\n",
       " ('2016-09-26', 1.02),\n",
       " ('2016-09-27', 1.0),\n",
       " ('2016-09-28', 0.08),\n",
       " ('2016-09-29', 1.49),\n",
       " ('2016-09-30', 0.38),\n",
       " ('2016-10-01', 1.02),\n",
       " ('2016-10-02', 0.61),\n",
       " ('2016-10-03', 0.46),\n",
       " ('2016-10-04', 3.46),\n",
       " ('2016-10-05', 0.81),\n",
       " ('2016-10-06', 0.07),\n",
       " ('2016-10-07', 0.01),\n",
       " ('2016-10-08', 0.04),\n",
       " ('2016-10-09', 0.0),\n",
       " ('2016-10-10', 0.0),\n",
       " ('2016-10-11', 0.35),\n",
       " ('2016-10-12', 0.03),\n",
       " ('2016-10-13', 0.06),\n",
       " ('2016-10-14', 0.0),\n",
       " ('2016-10-15', 0.33),\n",
       " ('2016-10-16', 0.0),\n",
       " ('2016-10-17', 0.38),\n",
       " ('2016-10-18', 0.48),\n",
       " ('2016-10-19', 0.11),\n",
       " ('2016-10-20', 1.0),\n",
       " ('2016-10-21', 0.15),\n",
       " ('2016-10-22', 1.37),\n",
       " ('2016-10-23', 0.24),\n",
       " ('2016-10-24', 0.7),\n",
       " ('2016-10-25', 0.4),\n",
       " ('2016-10-26', 0.2),\n",
       " ('2016-10-27', 1.25),\n",
       " ('2016-10-28', 0.37),\n",
       " ('2016-10-29', 0.26),\n",
       " ('2016-10-30', 0.95),\n",
       " ('2016-10-31', 1.35),\n",
       " ('2016-11-01', 0.1),\n",
       " ('2016-11-02', 0.04),\n",
       " ('2016-11-03', 0.02),\n",
       " ('2016-11-04', 0.06),\n",
       " ('2016-11-05', 0.38),\n",
       " ('2016-11-06', 0.05),\n",
       " ('2016-11-07', 0.13),\n",
       " ('2016-11-08', 0.53),\n",
       " ('2016-11-09', 0.17),\n",
       " ('2016-11-10', 0.01),\n",
       " ('2016-11-11', 0.0),\n",
       " ('2016-11-12', 0.0),\n",
       " ('2016-11-13', 0.0),\n",
       " ('2016-11-14', 0.06),\n",
       " ('2016-11-15', 0.05),\n",
       " ('2016-11-16', 0.91),\n",
       " ('2016-11-17', 0.03),\n",
       " ('2016-11-18', 0.02),\n",
       " ('2016-11-19', 0.13),\n",
       " ('2016-11-20', 0.4),\n",
       " ('2016-11-21', 2.87),\n",
       " ('2016-11-22', 2.11),\n",
       " ('2016-11-23', 0.25),\n",
       " ('2016-11-24', 0.72),\n",
       " ('2016-11-25', 1.03),\n",
       " ('2016-11-26', 0.3),\n",
       " ('2016-11-27', 0.29),\n",
       " ('2016-11-28', 0.69),\n",
       " ('2016-11-29', 0.2),\n",
       " ('2016-11-30', 0.79),\n",
       " ('2016-12-01', 0.72),\n",
       " ('2016-12-02', 1.27),\n",
       " ('2016-12-03', 1.62),\n",
       " ('2016-12-04', 0.32),\n",
       " ('2016-12-05', 1.6),\n",
       " ('2016-12-06', 0.02),\n",
       " ('2016-12-07', 0.17),\n",
       " ('2016-12-08', 0.27),\n",
       " ('2016-12-09', 0.52),\n",
       " ('2016-12-10', 0.05),\n",
       " ('2016-12-11', 0.13),\n",
       " ('2016-12-12', 0.02),\n",
       " ('2016-12-13', 0.34),\n",
       " ('2016-12-14', 0.92),\n",
       " ('2016-12-15', 0.14),\n",
       " ('2016-12-16', 0.03),\n",
       " ('2016-12-17', 0.16),\n",
       " ('2016-12-18', 0.29),\n",
       " ('2016-12-19', 0.21),\n",
       " ('2016-12-20', 0.02),\n",
       " ('2016-12-21', 0.55),\n",
       " ('2016-12-22', 1.24),\n",
       " ('2016-12-23', 0.83),\n",
       " ('2016-12-24', 1.08),\n",
       " ('2016-12-25', 0.38),\n",
       " ('2016-12-26', 1.48),\n",
       " ('2016-12-27', 0.14),\n",
       " ('2016-12-28', 0.14),\n",
       " ('2016-12-29', 1.03),\n",
       " ('2016-12-30', 2.37),\n",
       " ('2016-12-31', 0.9),\n",
       " ('2017-01-01', 0.29),\n",
       " ('2017-01-02', 0.01),\n",
       " ('2017-01-03', 0.0),\n",
       " ('2017-01-04', 0.18),\n",
       " ('2017-01-05', 0.47),\n",
       " ('2017-01-06', 0.59),\n",
       " ('2017-01-07', 0.06),\n",
       " ('2017-01-08', 0.03),\n",
       " ('2017-01-09', 0.0),\n",
       " ('2017-01-10', 0.0),\n",
       " ('2017-01-11', 0.0),\n",
       " ('2017-01-12', 0.0),\n",
       " ('2017-01-13', 0.0),\n",
       " ('2017-01-14', 0.01),\n",
       " ('2017-01-15', 0.01),\n",
       " ('2017-01-16', 0.0),\n",
       " ('2017-01-17', 0.0),\n",
       " ('2017-01-18', 0.07),\n",
       " ('2017-01-19', 0.02),\n",
       " ('2017-01-20', 0.0),\n",
       " ('2017-01-21', 0.11),\n",
       " ('2017-01-22', 0.72),\n",
       " ('2017-01-23', 0.85),\n",
       " ('2017-01-24', 1.85),\n",
       " ('2017-01-25', 2.64),\n",
       " ('2017-01-26', 0.1),\n",
       " ('2017-01-27', 0.03),\n",
       " ('2017-01-28', 0.14),\n",
       " ('2017-01-29', 0.55),\n",
       " ('2017-01-30', 0.05),\n",
       " ('2017-01-31', 0.0),\n",
       " ('2017-02-01', 0.0),\n",
       " ('2017-02-02', 0.0),\n",
       " ('2017-02-03', 0.0),\n",
       " ('2017-02-04', 0.0),\n",
       " ('2017-02-05', 0.0),\n",
       " ('2017-02-06', 0.18),\n",
       " ('2017-02-07', 1.8),\n",
       " ('2017-02-08', 1.08),\n",
       " ('2017-02-09', 0.02),\n",
       " ('2017-02-10', 0.0),\n",
       " ('2017-02-11', 5.04),\n",
       " ('2017-02-12', 2.98),\n",
       " ('2017-02-13', 2.9),\n",
       " ('2017-02-14', 0.01),\n",
       " ('2017-02-15', 0.07),\n",
       " ('2017-02-16', 0.73),\n",
       " ('2017-02-17', 0.8),\n",
       " ('2017-02-18', 0.01),\n",
       " ('2017-02-19', 0.1),\n",
       " ('2017-02-20', 0.0),\n",
       " ('2017-02-21', 0.07),\n",
       " ('2017-02-22', 0.32),\n",
       " ('2017-02-23', 0.01),\n",
       " ('2017-02-24', 0.0),\n",
       " ('2017-02-25', 0.12),\n",
       " ('2017-02-26', 0.0),\n",
       " ('2017-02-27', 0.0),\n",
       " ('2017-02-28', 0.58),\n",
       " ('2017-03-01', 2.4),\n",
       " ('2017-03-02', 1.88),\n",
       " ('2017-03-03', 0.56),\n",
       " ('2017-03-04', 0.0),\n",
       " ('2017-03-05', 0.41),\n",
       " ('2017-03-06', 0.51),\n",
       " ('2017-03-07', 0.0),\n",
       " ('2017-03-08', 0.0),\n",
       " ('2017-03-09', 0.8),\n",
       " ('2017-03-10', 0.13),\n",
       " ('2017-03-11', 0.03),\n",
       " ('2017-03-12', 0.0),\n",
       " ('2017-03-13', 0.0),\n",
       " ('2017-03-14', 0.06),\n",
       " ('2017-03-15', 0.06),\n",
       " ('2017-03-16', 0.0),\n",
       " ('2017-03-17', 0.35),\n",
       " ('2017-03-18', 0.0),\n",
       " ('2017-03-19', 0.0),\n",
       " ('2017-03-20', 0.02),\n",
       " ('2017-03-21', 0.09),\n",
       " ('2017-03-22', 0.0),\n",
       " ('2017-03-23', 0.03),\n",
       " ('2017-03-24', 0.6),\n",
       " ('2017-03-25', 0.93),\n",
       " ('2017-03-26', 0.0),\n",
       " ('2017-03-27', 0.01),\n",
       " ('2017-03-28', 0.68),\n",
       " ('2017-03-29', 0.08),\n",
       " ('2017-03-30', 0.08),\n",
       " ('2017-03-31', 0.01),\n",
       " ('2017-04-01', 0.21),\n",
       " ('2017-04-02', 0.0),\n",
       " ('2017-04-03', 0.26),\n",
       " ('2017-04-04', 0.09),\n",
       " ('2017-04-05', 0.45),\n",
       " ('2017-04-06', 0.06),\n",
       " ('2017-04-07', 0.0),\n",
       " ('2017-04-08', 0.0),\n",
       " ('2017-04-09', 0.0),\n",
       " ('2017-04-10', 0.01),\n",
       " ('2017-04-11', 0.25),\n",
       " ('2017-04-12', 0.65),\n",
       " ('2017-04-13', 0.59),\n",
       " ('2017-04-14', 2.82),\n",
       " ('2017-04-15', 0.9),\n",
       " ('2017-04-16', 0.49),\n",
       " ('2017-04-17', 1.3),\n",
       " ('2017-04-18', 2.03),\n",
       " ('2017-04-19', 0.14),\n",
       " ('2017-04-20', 0.35),\n",
       " ('2017-04-21', 2.36),\n",
       " ('2017-04-22', 1.58),\n",
       " ('2017-04-23', 0.35),\n",
       " ('2017-04-24', 0.05),\n",
       " ('2017-04-25', 0.0),\n",
       " ('2017-04-26', 0.22),\n",
       " ('2017-04-27', 0.19),\n",
       " ('2017-04-28', 2.6),\n",
       " ('2017-04-29', 6.25),\n",
       " ('2017-04-30', 1.31),\n",
       " ('2017-05-01', 0.26),\n",
       " ('2017-05-02', 0.03),\n",
       " ('2017-05-03', 0.01),\n",
       " ('2017-05-04', 0.08),\n",
       " ('2017-05-05', 0.28),\n",
       " ('2017-05-06', 0.06),\n",
       " ('2017-05-07', 0.07),\n",
       " ('2017-05-08', 1.11),\n",
       " ('2017-05-09', 1.62),\n",
       " ('2017-05-10', 0.55),\n",
       " ('2017-05-11', 0.44),\n",
       " ('2017-05-12', 0.1),\n",
       " ('2017-05-13', 0.12),\n",
       " ('2017-05-14', 1.0),\n",
       " ('2017-05-15', 0.6),\n",
       " ('2017-05-16', 0.3),\n",
       " ('2017-05-17', 0.07),\n",
       " ('2017-05-18', 0.46),\n",
       " ('2017-05-19', 0.02),\n",
       " ('2017-05-20', 0.02),\n",
       " ('2017-05-21', 0.01),\n",
       " ('2017-05-22', 0.3),\n",
       " ('2017-05-23', 0.44),\n",
       " ('2017-05-24', 2.17),\n",
       " ('2017-05-25', 0.88),\n",
       " ('2017-05-26', 0.02),\n",
       " ('2017-05-27', 0.5),\n",
       " ('2017-05-28', 0.29),\n",
       " ('2017-05-29', 0.4),\n",
       " ('2017-05-30', 1.12),\n",
       " ('2017-05-31', 0.25),\n",
       " ('2017-06-01', 0.03),\n",
       " ('2017-06-02', 0.15),\n",
       " ('2017-06-03', 0.2),\n",
       " ('2017-06-04', 0.82),\n",
       " ('2017-06-05', 0.05),\n",
       " ('2017-06-06', 0.0),\n",
       " ('2017-06-07', 0.01),\n",
       " ('2017-06-08', 0.02),\n",
       " ('2017-06-09', 0.02),\n",
       " ('2017-06-10', 0.62),\n",
       " ('2017-06-11', 0.74),\n",
       " ('2017-06-12', 0.81),\n",
       " ('2017-06-13', 0.65),\n",
       " ('2017-06-14', 0.81),\n",
       " ('2017-06-15', 1.69),\n",
       " ('2017-06-16', 0.1),\n",
       " ('2017-06-17', 0.35),\n",
       " ('2017-06-18', 0.7),\n",
       " ('2017-06-19', 0.4),\n",
       " ('2017-06-20', 0.31),\n",
       " ('2017-06-21', 0.3),\n",
       " ('2017-06-22', 0.28),\n",
       " ('2017-06-23', 0.5),\n",
       " ('2017-06-24', 0.36),\n",
       " ('2017-06-25', 0.5),\n",
       " ('2017-06-26', 0.06),\n",
       " ('2017-06-27', 0.1),\n",
       " ('2017-06-28', 0.02),\n",
       " ('2017-06-29', 0.04),\n",
       " ('2017-06-30', 0.2),\n",
       " ('2017-07-01', 0.1),\n",
       " ('2017-07-02', 0.5),\n",
       " ('2017-07-03', 0.4),\n",
       " ('2017-07-04', 0.08),\n",
       " ('2017-07-05', 0.0),\n",
       " ('2017-07-06', 0.02),\n",
       " ('2017-07-07', 0.3),\n",
       " ('2017-07-08', 0.06),\n",
       " ('2017-07-09', 0.11),\n",
       " ('2017-07-10', 0.02),\n",
       " ('2017-07-11', 0.02),\n",
       " ('2017-07-12', 0.28),\n",
       " ('2017-07-13', 0.68),\n",
       " ('2017-07-14', 0.68),\n",
       " ('2017-07-15', 0.1),\n",
       " ('2017-07-16', 0.5),\n",
       " ('2017-07-17', 0.39),\n",
       " ('2017-07-18', 2.4),\n",
       " ('2017-07-19', 0.27),\n",
       " ('2017-07-20', 0.7),\n",
       " ('2017-07-21', 0.1),\n",
       " ('2017-07-22', 4.0),\n",
       " ('2017-07-23', 0.8),\n",
       " ('2017-07-24', 1.19),\n",
       " ('2017-07-25', 0.3),\n",
       " ('2017-07-26', 0.3),\n",
       " ('2017-07-27', 0.01),\n",
       " ('2017-07-28', 0.4),\n",
       " ('2017-07-29', 0.3),\n",
       " ('2017-07-30', 0.3),\n",
       " ('2017-07-31', 0.0),\n",
       " ('2017-08-01', 0.12),\n",
       " ('2017-08-02', 0.25),\n",
       " ('2017-08-03', 0.06),\n",
       " ('2017-08-04', 0.04),\n",
       " ('2017-08-05', 0.06),\n",
       " ('2017-08-06', 0.0),\n",
       " ('2017-08-07', 0.05),\n",
       " ('2017-08-08', 0.34),\n",
       " ('2017-08-09', 0.15),\n",
       " ('2017-08-10', 0.07),\n",
       " ('2017-08-11', 0.0),\n",
       " ('2017-08-12', 0.14),\n",
       " ('2017-08-13', 0.0),\n",
       " ('2017-08-14', 0.22),\n",
       " ('2017-08-15', 0.42),\n",
       " ('2017-08-16', 0.42),\n",
       " ('2017-08-17', 0.13),\n",
       " ('2017-08-18', 0.06),\n",
       " ('2017-08-19', 0.09),\n",
       " ('2017-08-20', 0.01),\n",
       " ('2017-08-21', 0.56),\n",
       " ('2017-08-22', 0.5),\n",
       " ('2017-08-23', 0.45)]"
      ]
     },
     "execution_count": 14,
     "metadata": {},
     "output_type": "execute_result"
    }
   ],
   "source": [
    "# Use session.query() to retrieve the date and prcp columns, .filter() by the date you calculated above, and selecting .all() results\n",
    "\n",
    "prcp_data = (session.query(Measurement.date,func.max(Measurement.prcp))\n",
    "                  .filter(func.strftime('%Y-%m-%d',Measurement.date) >= prev_year_date)\n",
    "                  .group_by(Measurement.date)\n",
    "                  .all())\n",
    "prcp_data"
   ]
  },
  {
   "cell_type": "code",
   "execution_count": 15,
   "metadata": {},
   "outputs": [
    {
     "data": {
      "text/html": [
       "<div>\n",
       "<style scoped>\n",
       "    .dataframe tbody tr th:only-of-type {\n",
       "        vertical-align: middle;\n",
       "    }\n",
       "\n",
       "    .dataframe tbody tr th {\n",
       "        vertical-align: top;\n",
       "    }\n",
       "\n",
       "    .dataframe thead th {\n",
       "        text-align: right;\n",
       "    }\n",
       "</style>\n",
       "<table border=\"1\" class=\"dataframe\">\n",
       "  <thead>\n",
       "    <tr style=\"text-align: right;\">\n",
       "      <th></th>\n",
       "      <th>date</th>\n",
       "      <th>prcp</th>\n",
       "    </tr>\n",
       "  </thead>\n",
       "  <tbody>\n",
       "    <tr>\n",
       "      <th>0</th>\n",
       "      <td>2016-08-23</td>\n",
       "      <td>1.79</td>\n",
       "    </tr>\n",
       "    <tr>\n",
       "      <th>1</th>\n",
       "      <td>2016-08-24</td>\n",
       "      <td>2.28</td>\n",
       "    </tr>\n",
       "    <tr>\n",
       "      <th>2</th>\n",
       "      <td>2016-08-25</td>\n",
       "      <td>0.21</td>\n",
       "    </tr>\n",
       "    <tr>\n",
       "      <th>3</th>\n",
       "      <td>2016-08-26</td>\n",
       "      <td>0.04</td>\n",
       "    </tr>\n",
       "    <tr>\n",
       "      <th>4</th>\n",
       "      <td>2016-08-27</td>\n",
       "      <td>0.18</td>\n",
       "    </tr>\n",
       "    <tr>\n",
       "      <th>...</th>\n",
       "      <td>...</td>\n",
       "      <td>...</td>\n",
       "    </tr>\n",
       "    <tr>\n",
       "      <th>361</th>\n",
       "      <td>2017-08-19</td>\n",
       "      <td>0.09</td>\n",
       "    </tr>\n",
       "    <tr>\n",
       "      <th>362</th>\n",
       "      <td>2017-08-20</td>\n",
       "      <td>0.01</td>\n",
       "    </tr>\n",
       "    <tr>\n",
       "      <th>363</th>\n",
       "      <td>2017-08-21</td>\n",
       "      <td>0.56</td>\n",
       "    </tr>\n",
       "    <tr>\n",
       "      <th>364</th>\n",
       "      <td>2017-08-22</td>\n",
       "      <td>0.50</td>\n",
       "    </tr>\n",
       "    <tr>\n",
       "      <th>365</th>\n",
       "      <td>2017-08-23</td>\n",
       "      <td>0.45</td>\n",
       "    </tr>\n",
       "  </tbody>\n",
       "</table>\n",
       "<p>366 rows × 2 columns</p>\n",
       "</div>"
      ],
      "text/plain": [
       "           date  prcp\n",
       "0    2016-08-23  1.79\n",
       "1    2016-08-24  2.28\n",
       "2    2016-08-25  0.21\n",
       "3    2016-08-26  0.04\n",
       "4    2016-08-27  0.18\n",
       "..          ...   ...\n",
       "361  2017-08-19  0.09\n",
       "362  2017-08-20  0.01\n",
       "363  2017-08-21  0.56\n",
       "364  2017-08-22  0.50\n",
       "365  2017-08-23  0.45\n",
       "\n",
       "[366 rows x 2 columns]"
      ]
     },
     "execution_count": 15,
     "metadata": {},
     "output_type": "execute_result"
    }
   ],
   "source": [
    "# Save the query results as a Pandas DataFrame() and set the index to the date column\n",
    "\n",
    "precipitation_df = pd.DataFrame(prcp_data, columns=['date', 'prcp']).dropna()\n",
    "\n",
    "precipitation_df"
   ]
  },
  {
   "cell_type": "code",
   "execution_count": 16,
   "metadata": {},
   "outputs": [
    {
     "data": {
      "text/html": [
       "<div>\n",
       "<style scoped>\n",
       "    .dataframe tbody tr th:only-of-type {\n",
       "        vertical-align: middle;\n",
       "    }\n",
       "\n",
       "    .dataframe tbody tr th {\n",
       "        vertical-align: top;\n",
       "    }\n",
       "\n",
       "    .dataframe thead th {\n",
       "        text-align: right;\n",
       "    }\n",
       "</style>\n",
       "<table border=\"1\" class=\"dataframe\">\n",
       "  <thead>\n",
       "    <tr style=\"text-align: right;\">\n",
       "      <th></th>\n",
       "      <th>prcp</th>\n",
       "    </tr>\n",
       "    <tr>\n",
       "      <th>date</th>\n",
       "      <th></th>\n",
       "    </tr>\n",
       "  </thead>\n",
       "  <tbody>\n",
       "    <tr>\n",
       "      <th>2016-08-23</th>\n",
       "      <td>1.79</td>\n",
       "    </tr>\n",
       "    <tr>\n",
       "      <th>2016-08-24</th>\n",
       "      <td>2.28</td>\n",
       "    </tr>\n",
       "    <tr>\n",
       "      <th>2016-08-25</th>\n",
       "      <td>0.21</td>\n",
       "    </tr>\n",
       "    <tr>\n",
       "      <th>2016-08-26</th>\n",
       "      <td>0.04</td>\n",
       "    </tr>\n",
       "    <tr>\n",
       "      <th>2016-08-27</th>\n",
       "      <td>0.18</td>\n",
       "    </tr>\n",
       "    <tr>\n",
       "      <th>...</th>\n",
       "      <td>...</td>\n",
       "    </tr>\n",
       "    <tr>\n",
       "      <th>2017-08-19</th>\n",
       "      <td>0.09</td>\n",
       "    </tr>\n",
       "    <tr>\n",
       "      <th>2017-08-20</th>\n",
       "      <td>0.01</td>\n",
       "    </tr>\n",
       "    <tr>\n",
       "      <th>2017-08-21</th>\n",
       "      <td>0.56</td>\n",
       "    </tr>\n",
       "    <tr>\n",
       "      <th>2017-08-22</th>\n",
       "      <td>0.50</td>\n",
       "    </tr>\n",
       "    <tr>\n",
       "      <th>2017-08-23</th>\n",
       "      <td>0.45</td>\n",
       "    </tr>\n",
       "  </tbody>\n",
       "</table>\n",
       "<p>366 rows × 1 columns</p>\n",
       "</div>"
      ],
      "text/plain": [
       "            prcp\n",
       "date            \n",
       "2016-08-23  1.79\n",
       "2016-08-24  2.28\n",
       "2016-08-25  0.21\n",
       "2016-08-26  0.04\n",
       "2016-08-27  0.18\n",
       "...          ...\n",
       "2017-08-19  0.09\n",
       "2017-08-20  0.01\n",
       "2017-08-21  0.56\n",
       "2017-08-22  0.50\n",
       "2017-08-23  0.45\n",
       "\n",
       "[366 rows x 1 columns]"
      ]
     },
     "execution_count": 16,
     "metadata": {},
     "output_type": "execute_result"
    }
   ],
   "source": [
    "# Sort the dataframe by date\n",
    "\n",
    "prcp_df = precipitation_df.sort_values(\"date\").set_index(\"date\")\n",
    "prcp_df"
   ]
  },
  {
   "cell_type": "code",
   "execution_count": 17,
   "metadata": {},
   "outputs": [
    {
     "data": {
      "image/png": "[encoded data removed]",
      "text/plain": [
       "<Figure size 1080x576 with 1 Axes>"
      ]
     },
     "metadata": {},
     "output_type": "display_data"
    }
   ],
   "source": [
    "# Use Pandas Plotting with Matplotlib to plot the data\n",
    "plt.rcParams['figure.figsize']=(15,8)\n",
    "prcp_df.plot(linewidth=2,alpha=1,rot=0, \n",
    "             xticks=(0,60,120,180,240,300,365),\n",
    "             color='#5d8aa8')\n",
    "\n",
    "plt.xlim(-5,370)\n",
    "plt.ylim(-0.4,7)\n",
    "plt.yticks(size=14)\n",
    "plt.xticks(fontsize=14)\n",
    "plt.legend(\"Precipitation\")\n",
    "plt.xlabel('Date',fontsize=16,color='black',labelpad=20)\n",
    "plt.ylabel('Precipitation (in)',fontsize=16,color='black',labelpad=20)\n",
    "plt.title('Annual Precipitation in Honolulu - Hawaii\\n2016-08-23 to 2017-08-23',fontsize=20,pad=40)\n",
    "plt.savefig(\"Images/precipitation.png\")\n",
    "plt.show()"
   ]
  },
  {
   "cell_type": "code",
   "execution_count": 18,
   "metadata": {},
   "outputs": [
    {
     "data": {
      "text/plain": [
       "<Figure size 1080x576 with 0 Axes>"
      ]
     },
     "metadata": {},
     "output_type": "display_data"
    }
   ],
   "source": [
    "# Use Pandas to calculate the summary statistics for the precipitation data\n",
    "precipitation_df.describe()\n",
    "plt.savefig(\"Images/describe.png\")"
   ]
  },
  {
   "cell_type": "markdown",
   "metadata": {},
   "source": [
    "##### Design a query to show how many stations are available in this dataset\n"
   ]
  },
  {
   "cell_type": "code",
   "execution_count": 19,
   "metadata": {},
   "outputs": [
    {
     "name": "stdout",
     "output_type": "stream",
     "text": [
      "A total of 9 stations in this dataset\n"
     ]
    }
   ],
   "source": [
    "num_of_stations = session.query(Measurement.station).distinct().count()\n",
    "print(f\"A total of {num_of_stations} stations in this dataset\")"
   ]
  },
  {
   "cell_type": "code",
   "execution_count": 20,
   "metadata": {},
   "outputs": [
    {
     "data": {
      "text/html": [
       "<div>\n",
       "<style scoped>\n",
       "    .dataframe tbody tr th:only-of-type {\n",
       "        vertical-align: middle;\n",
       "    }\n",
       "\n",
       "    .dataframe tbody tr th {\n",
       "        vertical-align: top;\n",
       "    }\n",
       "\n",
       "    .dataframe thead th {\n",
       "        text-align: right;\n",
       "    }\n",
       "</style>\n",
       "<table border=\"1\" class=\"dataframe\">\n",
       "  <thead>\n",
       "    <tr style=\"text-align: right;\">\n",
       "      <th></th>\n",
       "      <th>station</th>\n",
       "      <th>count</th>\n",
       "    </tr>\n",
       "  </thead>\n",
       "  <tbody>\n",
       "    <tr>\n",
       "      <th>0</th>\n",
       "      <td>USC00519281</td>\n",
       "      <td>2772</td>\n",
       "    </tr>\n",
       "    <tr>\n",
       "      <th>1</th>\n",
       "      <td>USC00519397</td>\n",
       "      <td>2724</td>\n",
       "    </tr>\n",
       "    <tr>\n",
       "      <th>2</th>\n",
       "      <td>USC00513117</td>\n",
       "      <td>2709</td>\n",
       "    </tr>\n",
       "    <tr>\n",
       "      <th>3</th>\n",
       "      <td>USC00519523</td>\n",
       "      <td>2669</td>\n",
       "    </tr>\n",
       "    <tr>\n",
       "      <th>4</th>\n",
       "      <td>USC00516128</td>\n",
       "      <td>2612</td>\n",
       "    </tr>\n",
       "    <tr>\n",
       "      <th>5</th>\n",
       "      <td>USC00514830</td>\n",
       "      <td>2202</td>\n",
       "    </tr>\n",
       "    <tr>\n",
       "      <th>6</th>\n",
       "      <td>USC00511918</td>\n",
       "      <td>1979</td>\n",
       "    </tr>\n",
       "    <tr>\n",
       "      <th>7</th>\n",
       "      <td>USC00517948</td>\n",
       "      <td>1372</td>\n",
       "    </tr>\n",
       "    <tr>\n",
       "      <th>8</th>\n",
       "      <td>USC00518838</td>\n",
       "      <td>511</td>\n",
       "    </tr>\n",
       "  </tbody>\n",
       "</table>\n",
       "</div>"
      ],
      "text/plain": [
       "       station  count\n",
       "0  USC00519281   2772\n",
       "1  USC00519397   2724\n",
       "2  USC00513117   2709\n",
       "3  USC00519523   2669\n",
       "4  USC00516128   2612\n",
       "5  USC00514830   2202\n",
       "6  USC00511918   1979\n",
       "7  USC00517948   1372\n",
       "8  USC00518838    511"
      ]
     },
     "execution_count": 20,
     "metadata": {},
     "output_type": "execute_result"
    }
   ],
   "source": [
    "# What are the most active stations? (i.e. what stations have the most rows)?\n",
    "# List the stations and the counts in descending order. Hint: session.query() the station column in the Station table\n",
    "stations_data = pd.DataFrame(session.query(Measurement.station, func.count(Measurement.station).label('count')).\\\n",
    "                                  group_by(Measurement.station).\\\n",
    "                                  order_by(func.count(Measurement.station).desc()).all())\n",
    "stations_data"
   ]
  },
  {
   "cell_type": "code",
   "execution_count": 21,
   "metadata": {},
   "outputs": [],
   "source": [
    "# Using the station id from the previous query, calculate the lowest temperature recorded, \n",
    "# highest temperature recorded, and average temperature of the most active station\n",
    "act_station = [Measurement.station,\n",
    "               func.min(Measurement.tobs),\n",
    "               func.max(Measurement.tobs),\n",
    "               func.avg(Measurement.tobs)]\n",
    "                \n",
    "act_station_data = session.query(*act_station).filter(Measurement.station=='USC00519281').all()\n"
   ]
  },
  {
   "cell_type": "code",
   "execution_count": 22,
   "metadata": {},
   "outputs": [
    {
     "data": {
      "text/html": [
       "<div>\n",
       "<style scoped>\n",
       "    .dataframe tbody tr th:only-of-type {\n",
       "        vertical-align: middle;\n",
       "    }\n",
       "\n",
       "    .dataframe tbody tr th {\n",
       "        vertical-align: top;\n",
       "    }\n",
       "\n",
       "    .dataframe thead th {\n",
       "        text-align: right;\n",
       "    }\n",
       "</style>\n",
       "<table border=\"1\" class=\"dataframe\">\n",
       "  <thead>\n",
       "    <tr style=\"text-align: right;\">\n",
       "      <th></th>\n",
       "      <th>station</th>\n",
       "      <th>min_temp</th>\n",
       "      <th>max_temp</th>\n",
       "      <th>avg_temp</th>\n",
       "    </tr>\n",
       "  </thead>\n",
       "  <tbody>\n",
       "    <tr>\n",
       "      <th>0</th>\n",
       "      <td>USC00519281</td>\n",
       "      <td>54.0</td>\n",
       "      <td>85.0</td>\n",
       "      <td>71.663781</td>\n",
       "    </tr>\n",
       "  </tbody>\n",
       "</table>\n",
       "</div>"
      ],
      "text/plain": [
       "       station  min_temp  max_temp   avg_temp\n",
       "0  USC00519281      54.0      85.0  71.663781"
      ]
     },
     "execution_count": 22,
     "metadata": {},
     "output_type": "execute_result"
    }
   ],
   "source": [
    "act_station_df = pd.DataFrame(act_station_data, columns=['station', 'min_temp', 'max_temp', 'avg_temp'])\n",
    "\n",
    "act_station_df"
   ]
  },
  {
   "cell_type": "code",
   "execution_count": 23,
   "metadata": {},
   "outputs": [
    {
     "data": {
      "image/png": "[encoded data removed]",
      "text/plain": [
       "<Figure size 1080x576 with 1 Axes>"
      ]
     },
     "metadata": {},
     "output_type": "display_data"
    },
    {
     "data": {
      "text/plain": [
       "<Figure size 1080x576 with 0 Axes>"
      ]
     },
     "metadata": {},
     "output_type": "display_data"
    }
   ],
   "source": [
    "# Choose the station with the highest number of temperature observations.\n",
    "# Query the last 12 months of temperature observation data for this station and plot the results as a histogram\n",
    "\n",
    "most_temp_act_station = session.query(Measurement.tobs).\\\n",
    "                                filter(Measurement.station==\"USC00519281\").\\\n",
    "                                filter(Measurement.date >= prev_year_date).\\\n",
    "                                order_by(Measurement.date.desc()).all()\n",
    "\n",
    "x = [x[0] for x in most_temp_act_station]\n",
    "\n",
    "\n",
    "plt.hist(x, bins=12)\n",
    "plt.title('Temperature Observation in Honolulu - Hawaii\\nAug 08 2016 - Aug 08 2017')\n",
    "plt.ylabel('Frequency')\n",
    "plt.xlabel('Temperature (F)')\n",
    "plt.legend(['tobs'])\n",
    "plt.show()\n",
    "plt.savefig(\"Images/station-Histogram.png\")\n"
   ]
  },
  {
   "cell_type": "code",
   "execution_count": 24,
   "metadata": {},
   "outputs": [],
   "source": [
    "## Bonus Challenge Assignment"
   ]
  },
  {
   "cell_type": "code",
   "execution_count": 25,
   "metadata": {},
   "outputs": [
    {
     "name": "stdout",
     "output_type": "stream",
     "text": [
      "[(62.0, 69.57142857142857, 74.0)]\n"
     ]
    }
   ],
   "source": [
    "# This function called `calc_temps` will accept start date and end date in the format '%Y-%m-%d' \n",
    "# and return the minimum, average, and maximum temperatures for that range of dates\n",
    "def calc_temps(start_date, end_date):\n",
    "    \"\"\"TMIN, TAVG, and TMAX for a list of dates.\n",
    "    \n",
    "    Args:\n",
    "        start_date (string): A date string in the format %Y-%m-%d\n",
    "        end_date (string): A date string in the format %Y-%m-%d\n",
    "        \n",
    "    Returns:\n",
    "        TMIN, TAVE, and TMAX\n",
    "    \"\"\"\n",
    "    \n",
    "    return (session.query(func.min(Measurement.tobs), \n",
    "                         func.avg(Measurement.tobs), \n",
    "                         func.max(Measurement.tobs))\n",
    "                    .filter(Measurement.date >= start_date)\n",
    "                    .filter(Measurement.date <= end_date)\n",
    "                    .all())\n",
    "\n",
    "\n",
    "print(calc_temps('2012-02-28', '2012-03-05'))"
   ]
  },
  {
   "cell_type": "code",
   "execution_count": 26,
   "metadata": {},
   "outputs": [
    {
     "data": {
      "text/html": [
       "<div>\n",
       "<style scoped>\n",
       "    .dataframe tbody tr th:only-of-type {\n",
       "        vertical-align: middle;\n",
       "    }\n",
       "\n",
       "    .dataframe tbody tr th {\n",
       "        vertical-align: top;\n",
       "    }\n",
       "\n",
       "    .dataframe thead th {\n",
       "        text-align: right;\n",
       "    }\n",
       "</style>\n",
       "<table border=\"1\" class=\"dataframe\">\n",
       "  <thead>\n",
       "    <tr style=\"text-align: right;\">\n",
       "      <th></th>\n",
       "      <th>start_date</th>\n",
       "      <th>end_date</th>\n",
       "      <th>min_temp</th>\n",
       "      <th>avg_temp</th>\n",
       "      <th>max_temp</th>\n",
       "    </tr>\n",
       "  </thead>\n",
       "  <tbody>\n",
       "    <tr>\n",
       "      <th>0</th>\n",
       "      <td>2017-01-10</td>\n",
       "      <td>2017-01-20</td>\n",
       "      <td>62.0</td>\n",
       "      <td>70.514706</td>\n",
       "      <td>81.0</td>\n",
       "    </tr>\n",
       "  </tbody>\n",
       "</table>\n",
       "</div>"
      ],
      "text/plain": [
       "   start_date    end_date  min_temp   avg_temp  max_temp\n",
       "0  2017-01-10  2017-01-20      62.0  70.514706      81.0"
      ]
     },
     "execution_count": 26,
     "metadata": {},
     "output_type": "execute_result"
    }
   ],
   "source": [
    "# Use your previous function `calc_temps` to calculate the tmin, tavg, and tmax \n",
    "# for your trip using the previous year's data for those same dates.\n",
    "temp_data = calc_temps('2017-01-10', '2017-01-20')\n",
    "temps_df = pd.DataFrame({\"start_date\" : '2017-01-10',\n",
    "                         \"end_date\" : '2017-01-20',\n",
    "                         \"min_temp\": [temp_data[0][0]],\n",
    "                         \"avg_temp\": [temp_data[0][1]],\n",
    "                         'max_temp': [temp_data[0][2]]})\n",
    "\n",
    "temps_df\n"
   ]
  },
  {
   "cell_type": "code",
   "execution_count": 27,
   "metadata": {},
   "outputs": [
    {
     "data": {
      "image/png": "[encoded data removed]",
      "text/plain": [
       "<Figure size 216x432 with 1 Axes>"
      ]
     },
     "metadata": {},
     "output_type": "display_data"
    },
    {
     "data": {
      "text/plain": [
       "<Figure size 1080x576 with 0 Axes>"
      ]
     },
     "metadata": {},
     "output_type": "display_data"
    }
   ],
   "source": [
    "# Plot the results from your previous query as a bar chart. \n",
    "# Use \"Trip Avg Temp\" as your Title\n",
    "# Use the average temperature for the y value\n",
    "# Use the peak-to-peak (tmax-tmin) value as the y error bar (yerr)\n",
    "lower = temp_data[0][1] - temp_data[0][0]\n",
    "upper = temp_data[0][2] - temp_data[0][1]\n",
    "\n",
    "plt.figure(figsize=(3,6))\n",
    "plt.bar(0, temp_data[0][1], yerr=[upper-lower], color='#5d8aa8', alpha=0.5)\n",
    "plt.title('Trip Avg Temp')\n",
    "plt.xticks([])\n",
    "plt.ylabel('Temp (F)')\n",
    "plt.ylim(60)\n",
    "\n",
    "plt.show()\n",
    "plt.savefig(\"Images/temps-bar-chart.png\")"
   ]
  },
  {
   "cell_type": "code",
   "execution_count": 28,
   "metadata": {},
   "outputs": [
    {
     "data": {
      "text/html": [
       "<div>\n",
       "<style scoped>\n",
       "    .dataframe tbody tr th:only-of-type {\n",
       "        vertical-align: middle;\n",
       "    }\n",
       "\n",
       "    .dataframe tbody tr th {\n",
       "        vertical-align: top;\n",
       "    }\n",
       "\n",
       "    .dataframe thead th {\n",
       "        text-align: right;\n",
       "    }\n",
       "</style>\n",
       "<table border=\"1\" class=\"dataframe\">\n",
       "  <thead>\n",
       "    <tr style=\"text-align: right;\">\n",
       "      <th></th>\n",
       "      <th>station</th>\n",
       "      <th>name</th>\n",
       "      <th>total_prcp</th>\n",
       "      <th>logitude</th>\n",
       "      <th>latitude</th>\n",
       "      <th>elevation</th>\n",
       "    </tr>\n",
       "  </thead>\n",
       "  <tbody>\n",
       "    <tr>\n",
       "      <th>1</th>\n",
       "      <td>USC00513117</td>\n",
       "      <td>KANEOHE 838.1, HI US</td>\n",
       "      <td>0.00</td>\n",
       "      <td>21.42340</td>\n",
       "      <td>-157.80150</td>\n",
       "      <td>14.6</td>\n",
       "    </tr>\n",
       "    <tr>\n",
       "      <th>2</th>\n",
       "      <td>USC00519397</td>\n",
       "      <td>WAIKIKI 717.2, HI US</td>\n",
       "      <td>0.00</td>\n",
       "      <td>21.27160</td>\n",
       "      <td>-157.81680</td>\n",
       "      <td>3.0</td>\n",
       "    </tr>\n",
       "    <tr>\n",
       "      <th>3</th>\n",
       "      <td>USC00519523</td>\n",
       "      <td>WAIMANALO EXPERIMENTAL FARM, HI US</td>\n",
       "      <td>0.00</td>\n",
       "      <td>21.33556</td>\n",
       "      <td>-157.71139</td>\n",
       "      <td>19.5</td>\n",
       "    </tr>\n",
       "    <tr>\n",
       "      <th>4</th>\n",
       "      <td>USC00516128</td>\n",
       "      <td>MANOA LYON ARBO 785.2, HI US</td>\n",
       "      <td>0.01</td>\n",
       "      <td>21.33310</td>\n",
       "      <td>-157.80250</td>\n",
       "      <td>152.4</td>\n",
       "    </tr>\n",
       "    <tr>\n",
       "      <th>5</th>\n",
       "      <td>USC00514830</td>\n",
       "      <td>KUALOA RANCH HEADQUARTERS 886.9, HI US</td>\n",
       "      <td>0.02</td>\n",
       "      <td>21.52130</td>\n",
       "      <td>-157.83740</td>\n",
       "      <td>7.0</td>\n",
       "    </tr>\n",
       "    <tr>\n",
       "      <th>6</th>\n",
       "      <td>USC00519281</td>\n",
       "      <td>WAIHEE 837.5, HI US</td>\n",
       "      <td>0.05</td>\n",
       "      <td>21.45167</td>\n",
       "      <td>-157.84889</td>\n",
       "      <td>32.9</td>\n",
       "    </tr>\n",
       "  </tbody>\n",
       "</table>\n",
       "</div>"
      ],
      "text/plain": [
       "       station                                    name  total_prcp  logitude  \\\n",
       "1  USC00513117                    KANEOHE 838.1, HI US        0.00  21.42340   \n",
       "2  USC00519397                    WAIKIKI 717.2, HI US        0.00  21.27160   \n",
       "3  USC00519523      WAIMANALO EXPERIMENTAL FARM, HI US        0.00  21.33556   \n",
       "4  USC00516128            MANOA LYON ARBO 785.2, HI US        0.01  21.33310   \n",
       "5  USC00514830  KUALOA RANCH HEADQUARTERS 886.9, HI US        0.02  21.52130   \n",
       "6  USC00519281                     WAIHEE 837.5, HI US        0.05  21.45167   \n",
       "\n",
       "    latitude  elevation  \n",
       "1 -157.80150       14.6  \n",
       "2 -157.81680        3.0  \n",
       "3 -157.71139       19.5  \n",
       "4 -157.80250      152.4  \n",
       "5 -157.83740        7.0  \n",
       "6 -157.84889       32.9  "
      ]
     },
     "execution_count": 28,
     "metadata": {},
     "output_type": "execute_result"
    }
   ],
   "source": [
    "# Calculate the total amount of rainfall per weather station for your trip dates using the previous year's matching dates.\n",
    "# Sort this in descending order by precipitation amount and list the station, name, latitude, longitude, and elevation\n",
    "start_date = '2017-06-05'\n",
    "end_date = '2017-06-15'\n",
    "def rainfall(start_date, end_date):\n",
    "    return session.query(Measurement.station, \n",
    "                         Station.name,\n",
    "                         Measurement.prcp,\n",
    "                         Station.latitude,\n",
    "                         Station.longitude,\n",
    "                         Station.elevation).\\\n",
    "                            group_by(Measurement.station).\\\n",
    "                            join(Station, Measurement.station == Station.station).\\\n",
    "                            filter(Measurement.date >= start_date).\\\n",
    "                            filter(Measurement.date <= end_date).\\\n",
    "                            order_by(Measurement.prcp).all()\n",
    "\n",
    "rainfall_data = rainfall(start_date, end_date)\n",
    "\n",
    "rainfall_df = pd.DataFrame(rainfall_data,\n",
    "                          columns=[\"station\", \"name\", \"total_prcp\",\"logitude\", \"latitude\", \"elevation\"])\n",
    "rainfall_df.dropna()\n",
    "# plt.savefig(\"Images/rainfall-df.png\")"
   ]
  },
  {
   "cell_type": "code",
   "execution_count": 29,
   "metadata": {},
   "outputs": [
    {
     "data": {
      "text/plain": [
       "[(62.0, 69.15384615384616, 77.0)]"
      ]
     },
     "execution_count": 29,
     "metadata": {},
     "output_type": "execute_result"
    }
   ],
   "source": [
    "# Create a query that will calculate the daily normals \n",
    "# (i.e. the averages for tmin, tmax, and tavg for all historic data matching a specific month and day)\n",
    "\n",
    "def daily_normals(date):\n",
    "    \"\"\"Daily Normals.\n",
    "    \n",
    "    Args:\n",
    "        date (str): A date string in the format '%m-%d'\n",
    "        \n",
    "    Returns:\n",
    "        A list of tuples containing the daily normals, tmin, tavg, and tmax\n",
    "    \n",
    "    \"\"\"\n",
    "    return (session.query(func.min(Measurement.tobs), \n",
    "                          func.avg(Measurement.tobs), \n",
    "                          func.max(Measurement.tobs))\n",
    "                   .filter(func.strftime(\"%m-%d\", Measurement.date) == date)\n",
    "                   .all())\n",
    "    \n",
    "daily_normals(\"01-01\")"
   ]
  },
  {
   "cell_type": "code",
   "execution_count": 50,
   "metadata": {},
   "outputs": [
    {
     "data": {
      "text/plain": [
       "[[(68.0, 74.85454545454546, 81.0)],\n",
       " [(70.0, 75.17543859649123, 80.0)],\n",
       " [(68.0, 75.07142857142857, 81.0)],\n",
       " [(70.0, 75.58620689655173, 81.0)],\n",
       " [(69.0, 75.15254237288136, 81.0)],\n",
       " [(68.0, 75.14285714285714, 81.0)],\n",
       " [(69.0, 76.01960784313725, 84.0)],\n",
       " [(66.0, 75.66666666666667, 83.0)],\n",
       " [(68.0, 75.66666666666667, 81.0)],\n",
       " [(69.0, 75.62711864406779, 81.0)],\n",
       " [(67.0, 75.40350877192982, 81.0)]]"
      ]
     },
     "execution_count": 50,
     "metadata": {},
     "output_type": "execute_result"
    }
   ],
   "source": [
    "# push each tuple of calculations into a list called `normals`\n",
    "\n",
    "# Set the start and end date of the trip\n",
    "start_date = '2019-06-05'\n",
    "end_date = '2019-06-15'\n",
    "\n",
    "# return start date as an int of month and day, without year\n",
    "trip_start = int(start_date[-2:])\n",
    "trip_end = int(end_date[-2:])\n",
    "\n",
    "# obtain total number of days for trip, including last day of trip\n",
    "num_of_days = trip_end - trip_start + 1\n",
    "\n",
    "# Use the start and end date to create a range of dates\n",
    "\n",
    "start_date = dt.datetime.strptime(start_date, \"%Y-%m-%d\")\n",
    "\n",
    "# Stip off the year and save a list of %m-%d strings\n",
    "\n",
    "dates = [dt.datetime.strftime(start_date + dt.timedelta(days = x), \"%m-%d\")\n",
    "\n",
    "# Loop through the list of %m-%d strings and calculate the normals for each date\n",
    "        for x in range(0, num_of_days)]\n",
    "\n",
    "\n",
    "# calculate the daily normals for your trip\n",
    "\n",
    "normals = [daily_normals(date) for date in dates]\n",
    "\n",
    "normals"
   ]
  },
  {
   "cell_type": "code",
   "execution_count": null,
   "metadata": {},
   "outputs": [],
   "source": []
  },
  {
   "cell_type": "code",
   "execution_count": 51,
   "metadata": {},
   "outputs": [
    {
     "data": {
      "text/html": [
       "<div>\n",
       "<style scoped>\n",
       "    .dataframe tbody tr th:only-of-type {\n",
       "        vertical-align: middle;\n",
       "    }\n",
       "\n",
       "    .dataframe tbody tr th {\n",
       "        vertical-align: top;\n",
       "    }\n",
       "\n",
       "    .dataframe thead th {\n",
       "        text-align: right;\n",
       "    }\n",
       "</style>\n",
       "<table border=\"1\" class=\"dataframe\">\n",
       "  <thead>\n",
       "    <tr style=\"text-align: right;\">\n",
       "      <th></th>\n",
       "      <th>min_temp</th>\n",
       "      <th>avg_temp</th>\n",
       "      <th>max_temp</th>\n",
       "    </tr>\n",
       "    <tr>\n",
       "      <th>Date</th>\n",
       "      <th></th>\n",
       "      <th></th>\n",
       "      <th></th>\n",
       "    </tr>\n",
       "  </thead>\n",
       "  <tbody>\n",
       "    <tr>\n",
       "      <th>06-05</th>\n",
       "      <td>68.0</td>\n",
       "      <td>74.854545</td>\n",
       "      <td>81.0</td>\n",
       "    </tr>\n",
       "    <tr>\n",
       "      <th>06-06</th>\n",
       "      <td>70.0</td>\n",
       "      <td>75.175439</td>\n",
       "      <td>80.0</td>\n",
       "    </tr>\n",
       "    <tr>\n",
       "      <th>06-07</th>\n",
       "      <td>68.0</td>\n",
       "      <td>75.071429</td>\n",
       "      <td>81.0</td>\n",
       "    </tr>\n",
       "    <tr>\n",
       "      <th>06-08</th>\n",
       "      <td>70.0</td>\n",
       "      <td>75.586207</td>\n",
       "      <td>81.0</td>\n",
       "    </tr>\n",
       "    <tr>\n",
       "      <th>06-09</th>\n",
       "      <td>69.0</td>\n",
       "      <td>75.152542</td>\n",
       "      <td>81.0</td>\n",
       "    </tr>\n",
       "    <tr>\n",
       "      <th>06-10</th>\n",
       "      <td>68.0</td>\n",
       "      <td>75.142857</td>\n",
       "      <td>81.0</td>\n",
       "    </tr>\n",
       "    <tr>\n",
       "      <th>06-11</th>\n",
       "      <td>69.0</td>\n",
       "      <td>76.019608</td>\n",
       "      <td>84.0</td>\n",
       "    </tr>\n",
       "    <tr>\n",
       "      <th>06-12</th>\n",
       "      <td>66.0</td>\n",
       "      <td>75.666667</td>\n",
       "      <td>83.0</td>\n",
       "    </tr>\n",
       "    <tr>\n",
       "      <th>06-13</th>\n",
       "      <td>68.0</td>\n",
       "      <td>75.666667</td>\n",
       "      <td>81.0</td>\n",
       "    </tr>\n",
       "    <tr>\n",
       "      <th>06-14</th>\n",
       "      <td>69.0</td>\n",
       "      <td>75.627119</td>\n",
       "      <td>81.0</td>\n",
       "    </tr>\n",
       "    <tr>\n",
       "      <th>06-15</th>\n",
       "      <td>67.0</td>\n",
       "      <td>75.403509</td>\n",
       "      <td>81.0</td>\n",
       "    </tr>\n",
       "  </tbody>\n",
       "</table>\n",
       "</div>"
      ],
      "text/plain": [
       "       min_temp   avg_temp  max_temp\n",
       "Date                                \n",
       "06-05      68.0  74.854545      81.0\n",
       "06-06      70.0  75.175439      80.0\n",
       "06-07      68.0  75.071429      81.0\n",
       "06-08      70.0  75.586207      81.0\n",
       "06-09      69.0  75.152542      81.0\n",
       "06-10      68.0  75.142857      81.0\n",
       "06-11      69.0  76.019608      84.0\n",
       "06-12      66.0  75.666667      83.0\n",
       "06-13      68.0  75.666667      81.0\n",
       "06-14      69.0  75.627119      81.0\n",
       "06-15      67.0  75.403509      81.0"
      ]
     },
     "execution_count": 51,
     "metadata": {},
     "output_type": "execute_result"
    }
   ],
   "source": [
    "# Load the previous query results into a Pandas DataFrame and add the `trip_dates` range as the `date` index\n",
    "\n",
    "# unpack the list of lists\n",
    "normals = [normal[0] for normal in normals]\n",
    "\n",
    "normals_data = pd.DataFrame(normals, columns=[\"min_temp\", \"avg_temp\", \"max_temp\"])\n",
    "#normals_df\n",
    "\n",
    "# add a new column with name date and set the elements to the list of dates saved in a variable called dates\n",
    "normals_data[\"Date\"] = dates\n",
    "\n",
    "\n",
    "normals_df"
   ]
  },
  {
   "cell_type": "code",
   "execution_count": 32,
   "metadata": {},
   "outputs": [
    {
     "data": {
      "image/png": "[encoded data removed]",
      "text/plain": [
       "<Figure size 1080x576 with 1 Axes>"
      ]
     },
     "metadata": {},
     "output_type": "display_data"
    }
   ],
   "source": [
    "# Plot the daily normals as an area plot with `stacked=False`\n",
    "\n",
    "normals_df.plot.area(stacked=False, alpha=0.5)\n",
    "plt.xlabel(\"Date (mm-dd)\")\n",
    "plt.ylabel(\"Temperature (F)\")\n",
    "plt.title(\"Daily Normal Temperatures\\nHonolulu - Hawaii, June 5 - June 15, 2019\")\n",
    "plt.gca().legend(loc=\"center left\", bbox_to_anchor=(1.0, 0.8), shadow=True, borderpad=1);\n",
    "plt.savefig(\"Images/daily_normal_temps.png\")"
   ]
  },
  {
   "cell_type": "code",
   "execution_count": null,
   "metadata": {},
   "outputs": [],
   "source": []
  }
 ],
 "metadata": {
  "kernel_info": {
   "name": "python3"
  },
  "kernelspec": {
   "display_name": "Python 3",
   "language": "python",
   "name": "python3"
  },
  "language_info": {
   "codemirror_mode": {
    "name": "ipython",
    "version": 3
   },
   "file_extension": ".py",
   "mimetype": "text/x-python",
   "name": "python",
   "nbconvert_exporter": "python",
   "pygments_lexer": "ipython3",
   "version": "3.8.5"
  },
  "nteract": {
   "version": "0.12.3"
  },
  "varInspector": {
   "cols": {
    "lenName": 16,
    "lenType": 16,
    "lenVar": 40
   },
   "kernels_config": {
    "python": {
     "delete_cmd_postfix": "",
     "delete_cmd_prefix": "del ",
     "library": "var_list.py",
     "varRefreshCmd": "print(var_dic_list())"
    },
    "r": {
     "delete_cmd_postfix": ") ",
     "delete_cmd_prefix": "rm(",
     "library": "var_list.r",
     "varRefreshCmd": "cat(var_dic_list()) "
    }
   },
   "types_to_exclude": [
    "module",
    "function",
    "builtin_function_or_method",
    "instance",
    "_Feature"
   ],
   "window_display": false
  }
 },
 "nbformat": 4,
 "nbformat_minor": 4
}
